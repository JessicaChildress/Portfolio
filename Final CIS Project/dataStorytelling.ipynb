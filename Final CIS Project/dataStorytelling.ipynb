{
 "cells": [
  {
   "attachments": {},
   "cell_type": "markdown",
   "metadata": {},
   "source": [
    "# Introduction \n",
    "* Briefly explain the purpose of the notebook and the datasets that will be used"
   ]
  },
  {
   "cell_type": "code",
   "execution_count": null,
   "metadata": {},
   "outputs": [],
   "source": [
    "# Import necessary libraries: \n",
    "import pandas as pd \n",
    "import numpy as np "
   ]
  },
  {
   "attachments": {},
   "cell_type": "markdown",
   "metadata": {},
   "source": [
    "# Data Exploration\n",
    "* Load the datasets into pandas DataFrames\n",
    "* Explore the dataset using various pandas functions \n",
    "* Identify any missing values, outliers, or other issues that need to be addressed"
   ]
  },
  {
   "attachments": {},
   "cell_type": "markdown",
   "metadata": {},
   "source": [
    "# Data cleaning\n",
    "* Address and missing values/outliers/etc. \n",
    "* Remove any unnecessary or irrelevant columns from the DataFrames\n",
    "* Perform any desired data aggregation "
   ]
  },
  {
   "attachments": {},
   "cell_type": "markdown",
   "metadata": {},
   "source": [
    "# Data Visualization\n",
    "* Create visualizations (histograms, scatterplots, bar charts, etc.) to explore the relationships between variables in the dataset\n",
    "* Use seaborn to create more complex visualizations (heatmaps, pairplots, etc.) to uncover patterns and trends in the data"
   ]
  },
  {
   "attachments": {},
   "cell_type": "markdown",
   "metadata": {},
   "source": [
    "# Data Analysis\n",
    "* Use pandas and numpy functions to analyze the data and answer specific questions about the dataset\n",
    "* Draw conclusions and make inferences based on the analysis (perform a hypothesis test!)"
   ]
  },
  {
   "attachments": {},
   "cell_type": "markdown",
   "metadata": {},
   "source": [
    "# Data Storytelling\n",
    "* Use the insights gained from the data analysis to tell a compelling story about the dataset\n",
    "* Incorporate visualizations and data points to support the narrative\n",
    "* Make sure the story is clear, consice, and relevant to the audience"
   ]
  },
  {
   "attachments": {},
   "cell_type": "markdown",
   "metadata": {},
   "source": [
    "# Conclusion\n",
    "* Summarize the key findings of the analysis and the story\n",
    "* Reflect on any limitations or potential sources of bias in the analysis\n",
    "* Discuss potential next steps for further analysis or investigation"
   ]
  }
 ],
 "metadata": {
  "kernelspec": {
   "display_name": "Python 3",
   "language": "python",
   "name": "python3"
  },
  "language_info": {
   "name": "python",
   "version": "3.11.1"
  },
  "orig_nbformat": 4
 },
 "nbformat": 4,
 "nbformat_minor": 2
}
