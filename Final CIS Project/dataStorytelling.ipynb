{
 "cells": [
  {
   "attachments": {},
   "cell_type": "markdown",
   "metadata": {},
   "source": [
    "# Introduction \n",
    "* Ttechnological advancements of the 21st century have allowed for streaming television shows and movies to become much more popular than purchasing DVDs or paying to view a movie in theaters. Additionally, streaming services continue to increase their subscription costs, leaving many people wondering _which streaming service is right for me?_ This project aims to answer this question by analyzing data from Netflix, Hulu, Disney+, and Amazon Prime Video against the top 1000 movies and TV shows on IMDB as of June 2021. While the person who loves a good variety of movies and TV shows would benefit from the streaming service that has the most of the best, perhaps someone who only likes to watch documentaries would want the streaming service that offers the largest selection of top documentaries. On the other hand, if someone is really big on reality tv shows, then they would want a subscription for the streaming service with more of the highly rated reality tv shows. Then of course there is the devil's advocate who wants to entertain the streaming service who has the least of the best. This project will be able to cater to everybody's unique tastes. "
   ]
  },
  {
   "cell_type": "code",
   "execution_count": 11,
   "metadata": {},
   "outputs": [],
   "source": [
    "# Import necessary libraries: \n",
    "import pandas as pd \n",
    "import numpy as np "
   ]
  },
  {
   "attachments": {},
   "cell_type": "markdown",
   "metadata": {},
   "source": [
    "# Data Exploration\n",
    "* Load the datasets into pandas DataFrames\n",
    "* Explore the dataset using various pandas functions \n",
    "* Identify any missing values, outliers, or other issues that need to be addressed"
   ]
  },
  {
   "cell_type": "code",
   "execution_count": 12,
   "metadata": {},
   "outputs": [
    {
     "name": "stdout",
     "output_type": "stream",
     "text": [
      "Index(['show_id', 'type', 'title', 'director', 'cast', 'country', 'date_added',\n",
      "       'release_year', 'rating', 'duration', 'listed_in', 'description'],\n",
      "      dtype='object')\n",
      "Index(['show_id', 'type', 'title', 'director', 'cast', 'country', 'date_added',\n",
      "       'release_year', 'rating', 'duration', 'listed_in', 'description'],\n",
      "      dtype='object')\n",
      "Index(['show_id', 'type', 'title', 'director', 'cast', 'country', 'date_added',\n",
      "       'release_year', 'rating', 'duration', 'listed_in', 'description'],\n",
      "      dtype='object')\n",
      "Index(['show_id', 'type', 'title', 'director', 'cast', 'country', 'date_added',\n",
      "       'release_year', 'rating', 'duration', 'listed_in', 'description'],\n",
      "      dtype='object')\n",
      "     show_id     type                    title         director  \\\n",
      "0         s1    Movie      The Grand Seduction     Don McKellar   \n",
      "2         s3    Movie     Secrets of Deception      Josh Webber   \n",
      "3         s4    Movie       Pink: Staying True   Sonia Anderson   \n",
      "4         s5    Movie            Monster Maker     Giles Foster   \n",
      "5         s6    Movie    Living With Dinosaurs     Paul Weiland   \n",
      "...      ...      ...                      ...              ...   \n",
      "9663   s9664    Movie      Pride Of The Bowery  Joseph H. Lewis   \n",
      "9664   s9665  TV Show            Planet Patrol              NaN   \n",
      "9665   s9666    Movie                  Outpost     Steve Barker   \n",
      "9666   s9667  TV Show  Maradona: Blessed Dream              NaN   \n",
      "9667   s9668    Movie              Harry Brown    Daniel Barber   \n",
      "\n",
      "                                                   cast         country  \\\n",
      "0        Brendan Gleeson, Taylor Kitsch, Gordon Pinsent          Canada   \n",
      "2     Tom Sizemore, Lorenzo Lamas, Robert LaSardo, R...   United States   \n",
      "3     Interviews with: Pink, Adele, Beyoncé, Britney...   United States   \n",
      "4     Harry Dean Stanton, Kieran O'Brien, George Cos...  United Kingdom   \n",
      "5     Gregory Chisholm, Juliet Stevenson, Brian Hens...  United Kingdom   \n",
      "...                                                 ...             ...   \n",
      "9663                           Leo Gorcey, Bobby Jordan             NaN   \n",
      "9664  DICK VOSBURGH, RONNIE STEVENS, LIBBY MORRIS, M...             NaN   \n",
      "9665  Ray Stevenson, Julian Wadham, Richard Brake, M...             NaN   \n",
      "9666  Esteban Recagno, Ezequiel Stremiz, Luciano Vit...             NaN   \n",
      "9667  Michael Caine, Emily Mortimer, Joseph Gilgun, ...             NaN   \n",
      "\n",
      "          date_added  release_year rating   duration                listed_in  \\\n",
      "0     March 30, 2021          2014    NaN    113 min            Comedy, Drama   \n",
      "2     March 30, 2021          2017    NaN     74 min  Action, Drama, Suspense   \n",
      "3     March 30, 2021          2014    NaN     69 min              Documentary   \n",
      "4     March 30, 2021          1989    NaN     45 min           Drama, Fantasy   \n",
      "5     March 30, 2021          1989    NaN     52 min            Fantasy, Kids   \n",
      "...              ...           ...    ...        ...                      ...   \n",
      "9663             NaN          1940     7+     60 min                   Comedy   \n",
      "9664             NaN          2018    13+  4 Seasons                 TV Shows   \n",
      "9665             NaN          2008      R     90 min                   Action   \n",
      "9666             NaN          2021  TV-MA   1 Season            Drama, Sports   \n",
      "9667             NaN          2010      R    103 min  Action, Drama, Suspense   \n",
      "\n",
      "                                            description  \n",
      "0     A small fishing village must procure a local d...  \n",
      "2     After a man discovers his wife is cheating on ...  \n",
      "3     Pink breaks the mold once again, bringing her ...  \n",
      "4     Teenage Matt Banting wants to work with a famo...  \n",
      "5     The story unfolds in a an English seaside town...  \n",
      "...                                                 ...  \n",
      "9663  New York City street principles get an East Si...  \n",
      "9664  This is Earth, 2100AD - and these are the adve...  \n",
      "9665  In war-torn Eastern Europe, a world-weary grou...  \n",
      "9666  The series tells the story of Diego Maradona, ...  \n",
      "9667  Harry Brown, starring two-time Academy Award w...  \n",
      "\n",
      "[9667 rows x 12 columns]\n"
     ]
    }
   ],
   "source": [
    "# Load the datasets into pandas DataFrames\n",
    "amazon_df = pd.read_csv(\"amazon_prime_titles.csv\")\n",
    "disney_df = pd.read_csv(\"disney_plus_titles.csv\")\n",
    "hulu_df = pd.read_csv(\"hulu_titles.csv\")\n",
    "netflix_df = pd.read_csv(\"netflix_titles.csv\")\n",
    "imdb_tv_df = pd.read_csv(\"imdb_1000_tvshows.csv\")\n",
    "imdb_movies_df = pd.read_csv(\"imdb_1000_movies.csv\")\n",
    "\n",
    "# Explore the datasets\n",
    "print(amazon_df.columns)\n",
    "print(disney_df.columns)\n",
    "print(hulu_df.columns)\n",
    "print(netflix_df.columns)\n",
    "# the datasets all have the same columns, which will make it easy to remove columns and perform joins with the imdb datasets\n",
    "\n",
    "# Are there any missing values? \n"
   ]
  },
  {
   "attachments": {},
   "cell_type": "markdown",
   "metadata": {},
   "source": [
    "# Data cleaning\n",
    "* Address and missing values/outliers/etc. \n",
    "* Remove any unnecessary or irrelevant columns from the DataFrames\n",
    "* Perform any desired data aggregation "
   ]
  },
  {
   "attachments": {},
   "cell_type": "markdown",
   "metadata": {},
   "source": [
    "# Data Visualization\n",
    "* Create visualizations (histograms, scatterplots, bar charts, etc.) to explore the relationships between variables in the dataset\n",
    "* Use seaborn to create more complex visualizations (heatmaps, pairplots, etc.) to uncover patterns and trends in the data"
   ]
  },
  {
   "attachments": {},
   "cell_type": "markdown",
   "metadata": {},
   "source": [
    "# Data Analysis\n",
    "* Use pandas and numpy functions to analyze the data and answer specific questions about the dataset\n",
    "* Draw conclusions and make inferences based on the analysis (perform a hypothesis test!)"
   ]
  },
  {
   "attachments": {},
   "cell_type": "markdown",
   "metadata": {},
   "source": [
    "# Data Storytelling\n",
    "* Use the insights gained from the data analysis to tell a compelling story about the dataset\n",
    "* Incorporate visualizations and data points to support the narrative\n",
    "* Make sure the story is clear, consice, and relevant to the audience"
   ]
  },
  {
   "attachments": {},
   "cell_type": "markdown",
   "metadata": {},
   "source": [
    "# Conclusion\n",
    "* Summarize the key findings of the analysis and the story\n",
    "* Reflect on any limitations or potential sources of bias in the analysis\n",
    "* Discuss potential next steps for further analysis or investigation"
   ]
  }
 ],
 "metadata": {
  "kernelspec": {
   "display_name": "Python 3",
   "language": "python",
   "name": "python3"
  },
  "language_info": {
   "codemirror_mode": {
    "name": "ipython",
    "version": 3
   },
   "file_extension": ".py",
   "mimetype": "text/x-python",
   "name": "python",
   "nbconvert_exporter": "python",
   "pygments_lexer": "ipython3",
   "version": "3.11.1"
  },
  "orig_nbformat": 4
 },
 "nbformat": 4,
 "nbformat_minor": 2
}
