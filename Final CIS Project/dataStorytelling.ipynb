{
 "cells": [
  {
   "attachments": {},
   "cell_type": "markdown",
   "metadata": {},
   "source": [
    "# Introduction \n",
    "* Ttechnological advancements of the 21st century have allowed for streaming television shows and movies to become much more popular than purchasing DVDs or paying to view a movie in theaters. Additionally, streaming services continue to increase their subscription costs, leaving many people wondering _which streaming service is right for me?_ This project aims to answer this question by analyzing data from Netflix, Hulu, Disney+, and Amazon Prime Video against the top 1000 movies and TV shows on IMDB as of June 2021. While the person who loves a good variety of movies and TV shows would benefit from the streaming service that has the most of the best, perhaps someone who only likes to watch documentaries would want the streaming service that offers the largest selection of top documentaries. On the other hand, if someone is really big on reality tv shows, then they would want a subscription for the streaming service with more of the highly rated reality tv shows. Then of course there is the devil's advocate who wants to entertain the streaming service who has the least of the best. This project will be able to cater to everybody's unique tastes. "
   ]
  },
  {
   "cell_type": "code",
   "execution_count": 21,
   "metadata": {},
   "outputs": [],
   "source": [
    "# Import necessary libraries: \n",
    "import pandas as pd \n",
    "import numpy as np "
   ]
  },
  {
   "attachments": {},
   "cell_type": "markdown",
   "metadata": {},
   "source": [
    "# Data Exploration\n",
    "* Load the datasets into pandas DataFrames\n",
    "* Explore the dataset using various pandas functions \n",
    "* Identify any missing values, outliers, or other issues that need to be addressed"
   ]
  },
  {
   "cell_type": "code",
   "execution_count": 22,
   "metadata": {},
   "outputs": [
    {
     "name": "stdout",
     "output_type": "stream",
     "text": [
      "Index(['show_id', 'type', 'title', 'director', 'cast', 'country', 'date_added',\n",
      "       'release_year', 'rating', 'duration', 'listed_in', 'description'],\n",
      "      dtype='object')\n",
      "Index(['show_id', 'type', 'title', 'director', 'cast', 'country', 'date_added',\n",
      "       'release_year', 'rating', 'duration', 'listed_in', 'description'],\n",
      "      dtype='object')\n",
      "Index(['show_id', 'type', 'title', 'director', 'cast', 'country', 'date_added',\n",
      "       'release_year', 'rating', 'duration', 'listed_in', 'description'],\n",
      "      dtype='object')\n",
      "Index(['show_id', 'type', 'title', 'director', 'cast', 'country', 'date_added',\n",
      "       'release_year', 'rating', 'duration', 'listed_in', 'description'],\n",
      "      dtype='object')\n"
     ]
    },
    {
     "data": {
      "text/plain": [
       "ranking            0\n",
       "series name\\r      0\n",
       "Year               0\n",
       "certificate      170\n",
       "runtime           25\n",
       "genre              0\n",
       "rating           450\n",
       "DETAILS            8\n",
       "ACTOR 1            2\n",
       "ACTOR 2            2\n",
       "ACTOR 3            6\n",
       "ACTOR 4            7\n",
       "VOTES              0\n",
       "dtype: int64"
      ]
     },
     "execution_count": 22,
     "metadata": {},
     "output_type": "execute_result"
    }
   ],
   "source": [
    "# Load the datasets into pandas DataFrames\n",
    "amazon_df = pd.read_csv(\"amazon_prime_titles.csv\")\n",
    "disney_df = pd.read_csv(\"disney_plus_titles.csv\")\n",
    "hulu_df = pd.read_csv(\"hulu_titles.csv\")\n",
    "netflix_df = pd.read_csv(\"netflix_titles.csv\")\n",
    "imdb_tv_df = pd.read_csv(\"imdb_1000_tvshows.csv\")\n",
    "imdb_movies_df = pd.read_csv(\"imdb_1000_movies.csv\")\n",
    "\n",
    "# Explore the datasets\n",
    "print(amazon_df.columns)\n",
    "print(disney_df.columns)\n",
    "print(hulu_df.columns)\n",
    "print(netflix_df.columns)\n",
    "# the datasets all have the same columns, which will make it easy to remove columns and perform joins with the imdb datasets\n",
    "\n",
    "# CHECK FOR MISSING VALUES\n",
    "\n",
    "# amazon_df.isna().sum()\n",
    "# disney_df.isna().sum()\n",
    "# hulu_df.isna().sum()\n",
    "# netflix_df.isna().sum()\n",
    "# imdb_movies_df.isna().sum()\n",
    "# imdb_tv_df.isna().sum()\n"
   ]
  },
  {
   "attachments": {},
   "cell_type": "markdown",
   "metadata": {},
   "source": [
    "### Columns with Missing Data in each dataset:\n",
    "#### # of missing rows for the streaming services\n",
    "|columns | Amazon | Disney+ | Hulu  | Netflix |\n",
    "|--------|--------|---------|-------|---------|\n",
    "|show_id |       0|      0  |    0  |     0   |\n",
    "|type    |       0|      0  |    0  |     0   |\n",
    "|title   |       0|      0  |    0  |     0   |\n",
    "|director|    2082|    473  |  3070 |    2634 |   \n",
    "|cast    |    1233|    190  |  3073 |    825  |\n",
    "|country |    8996|    219  |  1453 |    831  |\n",
    "|date_added|  9513|      3  |    28 |    10   |\n",
    "|release_year|   0|      0  |    0  |     0   |\n",
    "|rating      | 337|      3  |    520|     4   |\n",
    "|duration    |   0|      0  |    479|     3   |\n",
    "|listed_in   |   0|      0  |    0  |     0   |\n",
    "|description |   0|      0  |    4  |     0   |\n",
    "\n",
    "#### # missing rows for the IMDB movies & TV shows\n",
    "|columns | movies | TV shows|\n",
    "|--------|--------|---------|   \n",
    "|ranking of movie |      0  |   0   |\n",
    "|movie/series name|      0  |   0   |\n",
    "|Year             |      0  |   0   |    \n",
    "|certificate      |      5  |   170 |\n",
    "|runtime          |      0  |   25  |\n",
    "|genre            |      0  |   0   | \n",
    "|RATING           |      0  |   450 |\n",
    "|metascore        |      163|   8   |\n",
    "|DETAIL(S)        |     0   |   2   |   \n",
    "|DIRECTOR         |      0  |   NA  |\n",
    "|ACTOR 1          |      0  |   2   | \n",
    "|ACTOR 2          |      0  |   6   |\n",
    "|ACTOR 3          |      0  |   7   |\n",
    "|ACTOR 4          |      0  |   0   |\n",
    "|votes            |      0  |   0   |\n",
    "|GROSS COLLECTION |      180|   NA  |\n"
   ]
  },
  {
   "attachments": {},
   "cell_type": "markdown",
   "metadata": {},
   "source": [
    "# Data cleaning\n",
    "* Address and missing values/outliers/etc. \n",
    "* Remove any unnecessary or irrelevant columns from the DataFrames\n",
    "* Perform any desired data aggregation "
   ]
  },
  {
   "attachments": {},
   "cell_type": "markdown",
   "metadata": {},
   "source": [
    "# Data Visualization\n",
    "* Create visualizations (histograms, scatterplots, bar charts, etc.) to explore the relationships between variables in the dataset\n",
    "* Use seaborn to create more complex visualizations (heatmaps, pairplots, etc.) to uncover patterns and trends in the data"
   ]
  },
  {
   "attachments": {},
   "cell_type": "markdown",
   "metadata": {},
   "source": [
    "# Data Analysis\n",
    "* Use pandas and numpy functions to analyze the data and answer specific questions about the dataset\n",
    "* Draw conclusions and make inferences based on the analysis (perform a hypothesis test!)"
   ]
  },
  {
   "attachments": {},
   "cell_type": "markdown",
   "metadata": {},
   "source": [
    "# Data Storytelling\n",
    "* Use the insights gained from the data analysis to tell a compelling story about the dataset\n",
    "* Incorporate visualizations and data points to support the narrative\n",
    "* Make sure the story is clear, consice, and relevant to the audience"
   ]
  },
  {
   "attachments": {},
   "cell_type": "markdown",
   "metadata": {},
   "source": [
    "# Conclusion\n",
    "* Summarize the key findings of the analysis and the story\n",
    "* Reflect on any limitations or potential sources of bias in the analysis\n",
    "* Discuss potential next steps for further analysis or investigation"
   ]
  }
 ],
 "metadata": {
  "kernelspec": {
   "display_name": "Python 3",
   "language": "python",
   "name": "python3"
  },
  "language_info": {
   "codemirror_mode": {
    "name": "ipython",
    "version": 3
   },
   "file_extension": ".py",
   "mimetype": "text/x-python",
   "name": "python",
   "nbconvert_exporter": "python",
   "pygments_lexer": "ipython3",
   "version": "3.11.1"
  },
  "orig_nbformat": 4
 },
 "nbformat": 4,
 "nbformat_minor": 2
}
